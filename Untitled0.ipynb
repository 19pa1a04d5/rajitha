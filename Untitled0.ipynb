{
  "nbformat": 4,
  "nbformat_minor": 0,
  "metadata": {
    "colab": {
      "name": "Untitled0.ipynb",
      "provenance": [],
      "authorship_tag": "ABX9TyNGMFgJQjCtgf6IjihZ5Vkq",
      "include_colab_link": true
    },
    "kernelspec": {
      "name": "python3",
      "display_name": "Python 3"
    }
  },
  "cells": [
    {
      "cell_type": "markdown",
      "metadata": {
        "id": "view-in-github",
        "colab_type": "text"
      },
      "source": [
        "<a href=\"https://colab.research.google.com/github/19pa1a04d5/rajitha/blob/master/Untitled0.ipynb\" target=\"_parent\"><img src=\"https://colab.research.google.com/assets/colab-badge.svg\" alt=\"Open In Colab\"/></a>"
      ]
    },
    {
      "cell_type": "code",
      "metadata": {
        "id": "fDv1TMBimxBt",
        "colab_type": "code",
        "colab": {
          "base_uri": "https://localhost:8080/",
          "height": 34
        },
        "outputId": "177c3d0a-4853-4d2b-b393-8a925be3f004"
      },
      "source": [
        "import numpy as np\n",
        "a=np.array([1,2,3,4],ndmin=2)\n",
        "print(a)"
      ],
      "execution_count": 1,
      "outputs": [
        {
          "output_type": "stream",
          "text": [
            "[[1 2 3 4]]\n"
          ],
          "name": "stdout"
        }
      ]
    },
    {
      "cell_type": "code",
      "metadata": {
        "id": "SbqFsbsvnexY",
        "colab_type": "code",
        "colab": {
          "base_uri": "https://localhost:8080/",
          "height": 901
        },
        "outputId": "689dbc42-c8fd-4104-b9a3-9340bb514cb7"
      },
      "source": [
        "import pandas as pd\n",
        "a=pd.read_csv(\"/content/sample_data/anscombe.json\")\n",
        "print(a)\n",
        "print(a.head())"
      ],
      "execution_count": 5,
      "outputs": [
        {
          "output_type": "stream",
          "text": [
            "                                          [\n",
            "  {\"Series\":\"I\"    \"X\":10.0  \"Y\":8.04}  NaN\n",
            "                   \"X\":8.0   \"Y\":6.95}  NaN\n",
            "                   \"X\":13.0  \"Y\":7.58}  NaN\n",
            "                   \"X\":9.0   \"Y\":8.81}  NaN\n",
            "                   \"X\":11.0  \"Y\":8.33}  NaN\n",
            "                   \"X\":14.0  \"Y\":9.96}  NaN\n",
            "                   \"X\":6.0   \"Y\":7.24}  NaN\n",
            "                   \"X\":4.0   \"Y\":4.26}  NaN\n",
            "                   \"X\":12.0  \"Y\":10.84} NaN\n",
            "                   \"X\":7.0   \"Y\":4.81}  NaN\n",
            "                   \"X\":5.0   \"Y\":5.68}  NaN\n",
            "  {\"Series\":\"II\"   \"X\":10.0  \"Y\":9.14}  NaN\n",
            "                   \"X\":8.0   \"Y\":8.14}  NaN\n",
            "                   \"X\":13.0  \"Y\":8.74}  NaN\n",
            "                   \"X\":9.0   \"Y\":8.77}  NaN\n",
            "                   \"X\":11.0  \"Y\":9.26}  NaN\n",
            "                   \"X\":14.0  \"Y\":8.10}  NaN\n",
            "                   \"X\":6.0   \"Y\":6.13}  NaN\n",
            "                   \"X\":4.0   \"Y\":3.10}  NaN\n",
            "                   \"X\":12.0  \"Y\":9.13}  NaN\n",
            "                   \"X\":7.0   \"Y\":7.26}  NaN\n",
            "                   \"X\":5.0   \"Y\":4.74}  NaN\n",
            "  {\"Series\":\"III\"  \"X\":10.0  \"Y\":7.46}  NaN\n",
            "                   \"X\":8.0   \"Y\":6.77}  NaN\n",
            "                   \"X\":13.0  \"Y\":12.74} NaN\n",
            "                   \"X\":9.0   \"Y\":7.11}  NaN\n",
            "                   \"X\":11.0  \"Y\":7.81}  NaN\n",
            "                   \"X\":14.0  \"Y\":8.84}  NaN\n",
            "                   \"X\":6.0   \"Y\":6.08}  NaN\n",
            "                   \"X\":4.0   \"Y\":5.39}  NaN\n",
            "                   \"X\":12.0  \"Y\":8.15}  NaN\n",
            "                   \"X\":7.0   \"Y\":6.42}  NaN\n",
            "                   \"X\":5.0   \"Y\":5.73}  NaN\n",
            "  {\"Series\":\"IV\"   \"X\":8.0   \"Y\":6.58}  NaN\n",
            "                             \"Y\":5.76}  NaN\n",
            "                             \"Y\":7.71}  NaN\n",
            "                             \"Y\":8.84}  NaN\n",
            "                             \"Y\":8.47}  NaN\n",
            "                             \"Y\":7.04}  NaN\n",
            "                             \"Y\":5.25}  NaN\n",
            "                   \"X\":19.0  \"Y\":12.50} NaN\n",
            "                   \"X\":8.0   \"Y\":5.56}  NaN\n",
            "                             \"Y\":7.91}  NaN\n",
            "                             \"Y\":6.89}  NaN\n",
            "]                 NaN       NaN         NaN\n",
            "                                       [\n",
            "  {\"Series\":\"I\"  \"X\":10.0  \"Y\":8.04} NaN\n",
            "                 \"X\":8.0   \"Y\":6.95} NaN\n",
            "                 \"X\":13.0  \"Y\":7.58} NaN\n",
            "                 \"X\":9.0   \"Y\":8.81} NaN\n",
            "                 \"X\":11.0  \"Y\":8.33} NaN\n"
          ],
          "name": "stdout"
        }
      ]
    }
  ]
}